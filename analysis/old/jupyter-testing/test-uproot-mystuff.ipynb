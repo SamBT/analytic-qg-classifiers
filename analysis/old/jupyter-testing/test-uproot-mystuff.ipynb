{
 "cells": [
  {
   "cell_type": "code",
   "execution_count": 1,
   "metadata": {},
   "outputs": [],
   "source": [
    "import uproot"
   ]
  },
  {
   "cell_type": "code",
   "execution_count": 2,
   "metadata": {},
   "outputs": [],
   "source": [
    "file = uproot.open('../../event-generation/src/test.root')"
   ]
  },
  {
   "cell_type": "code",
   "execution_count": 3,
   "metadata": {},
   "outputs": [
    {
     "data": {
      "text/plain": [
       "[b'EventTree;1']"
      ]
     },
     "execution_count": 3,
     "metadata": {},
     "output_type": "execute_result"
    }
   ],
   "source": [
    "file.keys()"
   ]
  },
  {
   "cell_type": "code",
   "execution_count": 4,
   "metadata": {},
   "outputs": [
    {
     "data": {
      "text/plain": [
       "<TTree b'EventTree' at 0x2aacca963110>"
      ]
     },
     "execution_count": 4,
     "metadata": {},
     "output_type": "execute_result"
    }
   ],
   "source": [
    "events = file['EventTree']\n",
    "events"
   ]
  },
  {
   "cell_type": "code",
   "execution_count": 5,
   "metadata": {},
   "outputs": [
    {
     "data": {
      "text/plain": [
       "[b'EventNumber',\n",
       " b'pTmin',\n",
       " b'jetRadius',\n",
       " b'nJets',\n",
       " b'nQJets',\n",
       " b'nGJets',\n",
       " b'jet_pt',\n",
       " b'jet_eta',\n",
       " b'jet_phi',\n",
       " b'jet_m',\n",
       " b'jet_mult',\n",
       " b'is_qjet',\n",
       " b'is_gjet',\n",
       " b'qjet_pt',\n",
       " b'qjet_eta',\n",
       " b'qjet_phi',\n",
       " b'qjet_m',\n",
       " b'qjet_mult',\n",
       " b'gjet_pt',\n",
       " b'gjet_eta',\n",
       " b'gjet_phi',\n",
       " b'gjet_m',\n",
       " b'gjet_mult',\n",
       " b'npJets',\n",
       " b'npQJets',\n",
       " b'npGJets',\n",
       " b'pjet_pt',\n",
       " b'pjet_eta',\n",
       " b'pjet_phi',\n",
       " b'pjet_m',\n",
       " b'pjet_mult',\n",
       " b'pjet_constit_pt',\n",
       " b'pjet_constit_eta',\n",
       " b'pjet_constit_phi',\n",
       " b'pjet_constit_e',\n",
       " b'is_pqjet',\n",
       " b'is_pgjet',\n",
       " b'pqjet_pt',\n",
       " b'pqjet_eta',\n",
       " b'pqjet_phi',\n",
       " b'pqjet_m',\n",
       " b'pqjet_mult',\n",
       " b'pgjet_pt',\n",
       " b'pgjet_eta',\n",
       " b'pgjet_phi',\n",
       " b'pgjet_m',\n",
       " b'pgjet_mult']"
      ]
     },
     "execution_count": 5,
     "metadata": {},
     "output_type": "execute_result"
    }
   ],
   "source": [
    "events.keys()"
   ]
  },
  {
   "cell_type": "code",
   "execution_count": 6,
   "metadata": {},
   "outputs": [
    {
     "name": "stdout",
     "output_type": "stream",
     "text": [
      "EventNumber                (no streamer)              asdtype('>i4')\n",
      "pTmin                      (no streamer)              asdtype('>f8')\n",
      "jetRadius                  (no streamer)              asdtype('>f8')\n",
      "nJets                      (no streamer)              asdtype('>i4')\n",
      "nQJets                     (no streamer)              asdtype('>i4')\n",
      "nGJets                     (no streamer)              asdtype('>i4')\n",
      "jet_pt                     (no streamer)              asjagged(asdtype('>f8'))\n",
      "jet_eta                    (no streamer)              asjagged(asdtype('>f8'))\n",
      "jet_phi                    (no streamer)              asjagged(asdtype('>f8'))\n",
      "jet_m                      (no streamer)              asjagged(asdtype('>f8'))\n",
      "jet_mult                   (no streamer)              asjagged(asdtype('>i4'))\n",
      "is_qjet                    (no streamer)              asjagged(asdtype('bool'))\n",
      "is_gjet                    (no streamer)              asjagged(asdtype('bool'))\n",
      "qjet_pt                    (no streamer)              asjagged(asdtype('>f8'))\n",
      "qjet_eta                   (no streamer)              asjagged(asdtype('>f8'))\n",
      "qjet_phi                   (no streamer)              asjagged(asdtype('>f8'))\n",
      "qjet_m                     (no streamer)              asjagged(asdtype('>f8'))\n",
      "qjet_mult                  (no streamer)              asjagged(asdtype('>i4'))\n",
      "gjet_pt                    (no streamer)              asjagged(asdtype('>f8'))\n",
      "gjet_eta                   (no streamer)              asjagged(asdtype('>f8'))\n",
      "gjet_phi                   (no streamer)              asjagged(asdtype('>f8'))\n",
      "gjet_m                     (no streamer)              asjagged(asdtype('>f8'))\n",
      "gjet_mult                  (no streamer)              asjagged(asdtype('>i4'))\n",
      "npJets                     (no streamer)              asdtype('>i4')\n",
      "npQJets                    (no streamer)              asdtype('>i4')\n",
      "npGJets                    (no streamer)              asdtype('>i4')\n",
      "pjet_pt                    (no streamer)              asjagged(asdtype('>f8'))\n",
      "pjet_eta                   (no streamer)              asjagged(asdtype('>f8'))\n",
      "pjet_phi                   (no streamer)              asjagged(asdtype('>f8'))\n",
      "pjet_m                     (no streamer)              asjagged(asdtype('>f8'))\n",
      "pjet_mult                  (no streamer)              asjagged(asdtype('>i4'))\n",
      "pjet_constit_pt            TStreamerSTL               asgenobj(STLVector(STLVector(asdtype('>f8'))))\n",
      "pjet_constit_eta           TStreamerSTL               asgenobj(STLVector(STLVector(asdtype('>f8'))))\n",
      "pjet_constit_phi           TStreamerSTL               asgenobj(STLVector(STLVector(asdtype('>f8'))))\n",
      "pjet_constit_e             TStreamerSTL               asgenobj(STLVector(STLVector(asdtype('>f8'))))\n",
      "is_pqjet                   (no streamer)              asjagged(asdtype('bool'))\n",
      "is_pgjet                   (no streamer)              asjagged(asdtype('bool'))\n",
      "pqjet_pt                   (no streamer)              asjagged(asdtype('>f8'))\n",
      "pqjet_eta                  (no streamer)              asjagged(asdtype('>f8'))\n",
      "pqjet_phi                  (no streamer)              asjagged(asdtype('>f8'))\n",
      "pqjet_m                    (no streamer)              asjagged(asdtype('>f8'))\n",
      "pqjet_mult                 (no streamer)              asjagged(asdtype('>i4'))\n",
      "pgjet_pt                   (no streamer)              asjagged(asdtype('>f8'))\n",
      "pgjet_eta                  (no streamer)              asjagged(asdtype('>f8'))\n",
      "pgjet_phi                  (no streamer)              asjagged(asdtype('>f8'))\n",
      "pgjet_m                    (no streamer)              asjagged(asdtype('>f8'))\n",
      "pgjet_mult                 (no streamer)              asjagged(asdtype('>i4'))\n"
     ]
    }
   ],
   "source": [
    "events.show()"
   ]
  },
  {
   "cell_type": "code",
   "execution_count": 9,
   "metadata": {},
   "outputs": [
    {
     "data": {
      "text/plain": [
       "(b'EventTree', b'Generated Events', 1000)"
      ]
     },
     "execution_count": 9,
     "metadata": {},
     "output_type": "execute_result"
    }
   ],
   "source": [
    "events.name, events.title, events.numentries"
   ]
  },
  {
   "cell_type": "code",
   "execution_count": 11,
   "metadata": {},
   "outputs": [
    {
     "data": {
      "text/plain": [
       "<JaggedArray [[25.02007457744289 23.417698726168016] [27.454829495460157] [42.27686748901986 28.152202192459633] ... [] [38.633623932559715 29.461144417946144] [22.71116137733119]] at 0x2aacc9998f50>"
      ]
     },
     "execution_count": 11,
     "metadata": {},
     "output_type": "execute_result"
    }
   ],
   "source": [
    "events.array(\"jet_pt\")"
   ]
  },
  {
   "cell_type": "code",
   "execution_count": 12,
   "metadata": {},
   "outputs": [
    {
     "data": {
      "text/plain": [
       "array([25.02007458, 23.41769873])"
      ]
     },
     "execution_count": 12,
     "metadata": {},
     "output_type": "execute_result"
    }
   ],
   "source": [
    "events.array(\"jet_pt\")[0]"
   ]
  },
  {
   "cell_type": "code",
   "execution_count": 23,
   "metadata": {},
   "outputs": [
    {
     "name": "stdout",
     "output_type": "stream",
     "text": [
      "80.58054663431612\n",
      "79.82109979195226\n"
     ]
    }
   ],
   "source": [
    "import numpy as np\n",
    "print(np.sum(events.array(\"pjet_constit_pt\")[0][1]))\n",
    "print(events.array(\"pjet_pt\")[0][1])"
   ]
  },
  {
   "cell_type": "code",
   "execution_count": 30,
   "metadata": {},
   "outputs": [
    {
     "data": {
      "text/plain": [
       "{'jet_pt': <JaggedArray [[25.02007457744289 23.417698726168016] [27.454829495460157] [42.27686748901986 28.152202192459633] ... [] [38.633623932559715 29.461144417946144] [22.71116137733119]] at 0x2aaccaa40110>,\n",
       " 'jet_eta': <JaggedArray [[0.15034855554240886 -0.32159224893242416] [-0.9680939746271738] [0.5559997799327544 -0.9063319013704321] ... [] [-0.19497582743457514 -0.31151712321532454] [1.010146966295232]] at 0x2aaccaa40590>,\n",
       " 'jet_phi': <JaggedArray [[5.290451091569165 3.0290373967253723] [2.329631705775878] [4.321584417633968 1.2401277986905626] ... [] [5.477414096447425 2.6858874992710637] [3.8956774395266534]] at 0x2aaccaa40490>,\n",
       " 'jet_m': <JaggedArray [[3.843601179866216 3.136274571695166] [5.394267685891594] [9.590609192568706 5.687596161851652] ... [] [5.738113979202596 5.241983809583637] [3.8948991763973586]] at 0x2aaccaa40710>,\n",
       " 'jet_mult': <JaggedArray [[8 14] [16] [17 14] ... [] [15 14] [13]] at 0x2aaccaa407d0>}"
      ]
     },
     "execution_count": 30,
     "metadata": {},
     "output_type": "execute_result"
    }
   ],
   "source": [
    "events.arrays([\"jet_*\"], namedecode=\"utf-8\")"
   ]
  },
  {
   "cell_type": "code",
   "execution_count": null,
   "metadata": {},
   "outputs": [],
   "source": []
  }
 ],
 "metadata": {
  "kernelspec": {
   "display_name": "Jets-ML-EnergyFlow",
   "language": "python",
   "name": "jets-ml-eflow"
  },
  "language_info": {
   "codemirror_mode": {
    "name": "ipython",
    "version": 3
   },
   "file_extension": ".py",
   "mimetype": "text/x-python",
   "name": "python",
   "nbconvert_exporter": "python",
   "pygments_lexer": "ipython3",
   "version": "3.7.8"
  }
 },
 "nbformat": 4,
 "nbformat_minor": 4
}
