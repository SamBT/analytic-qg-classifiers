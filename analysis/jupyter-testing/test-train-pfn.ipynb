{
 "cells": [
  {
   "cell_type": "code",
   "execution_count": 1,
   "metadata": {},
   "outputs": [],
   "source": [
    "from __future__ import absolute_import, division, print_function\n",
    "import uproot\n",
    "import numpy as np\n",
    "import matplotlib.pyplot as plt\n",
    "\n",
    "# energyflow imports\n",
    "import energyflow as ef\n",
    "from energyflow.archs import *\n",
    "from energyflow.utils import data_split, remap_pids, to_categorical\n",
    "\n",
    "from sklearn.metrics import roc_auc_score, roc_curve"
   ]
  },
  {
   "cell_type": "code",
   "execution_count": 2,
   "metadata": {},
   "outputs": [],
   "source": [
    "data_dir = '/global/homes/s/sambt/Jets/optimal-classifiers/event-generation/src/'\n",
    "h2gg = uproot.open(data_dir+'H2gg-ee-50k.root')['EventTree']\n",
    "h2qq = uproot.open(data_dir+'H2qqbar-ee-50k.root')['EventTree']\n",
    "\n",
    "nev_h2gg = h2gg.numentries\n",
    "nev_h2qq = h2qq.numentries"
   ]
  },
  {
   "cell_type": "code",
   "execution_count": 3,
   "metadata": {},
   "outputs": [],
   "source": [
    "#load pT, eta, phi of leading jet constituents\n",
    "gjet_pt = h2gg.array(\"plead_constit_pt\")\n",
    "gjet_eta = h2gg.array(\"plead_constit_eta\")\n",
    "gjet_phi = h2gg.array(\"plead_constit_phi\")\n",
    "\n",
    "qjet_pt = h2qq.array(\"plead_constit_pt\")\n",
    "qjet_eta = h2qq.array(\"plead_constit_eta\")\n",
    "qjet_phi = h2qq.array(\"plead_constit_phi\")\n",
    "\n",
    "#remove events where there is no leading quark or gluon jet for some reason\n",
    "gjet_pt = gjet_pt[gjet_pt.any()]\n",
    "gjet_eta = gjet_eta[gjet_eta.any()]\n",
    "gjet_phi = gjet_phi[gjet_phi.any()]\n",
    "\n",
    "qjet_pt = qjet_pt[qjet_pt.any()]\n",
    "qjet_eta = qjet_eta[qjet_eta.any()]\n",
    "qjet_phi = qjet_phi[qjet_phi.any()]"
   ]
  },
  {
   "cell_type": "code",
   "execution_count": 4,
   "metadata": {},
   "outputs": [],
   "source": [
    "#combine quark & gluon datasets\n",
    "max_len = np.max((np.max(h2qq.array(\"plead_mult\")),np.max(h2gg.array(\"plead_mult\"))))\n",
    "quarks = np.array([[[qjet_pt[i,j],qjet_eta[i,j],qjet_phi[i,j]] if j < np.size(qjet_pt[i]) else [0,0,0] for j in range(max_len)] for i in range(np.size(qjet_pt))])\n",
    "gluons = np.array([[[gjet_pt[i,j],gjet_eta[i,j],gjet_phi[i,j]] if j < np.size(gjet_pt[i]) else [0,0,0] for j in range(max_len)] for i in range(np.size(gjet_pt))])"
   ]
  },
  {
   "cell_type": "code",
   "execution_count": 5,
   "metadata": {},
   "outputs": [],
   "source": [
    "#make vectors with truth labels, combine q & g samples, shuffle\n",
    "quark_labs = np.ones(np.size(quarks,axis=0))\n",
    "glu_labs = np.zeros(np.size(gluons,axis=0))\n",
    "\n",
    "X = np.concatenate((quarks,gluons))\n",
    "y = np.concatenate((quark_labs,glu_labs))\n",
    "\n",
    "shuf = np.arange(np.size(X,axis=0))\n",
    "np.random.shuffle(shuf)\n",
    "\n",
    "X = X[shuf]\n",
    "y = y[shuf]"
   ]
  },
  {
   "cell_type": "code",
   "execution_count": 6,
   "metadata": {},
   "outputs": [],
   "source": [
    "#network parameters\n",
    "train, test, val = 50000, 10000, 20000\n",
    "Phi_sizes, F_sizes = (100, 100, 128), (100, 100, 100)\n",
    "num_epoch = 5\n",
    "batch_size = 500\n",
    "\n",
    "#convert quark/gluon labels to categorical\n",
    "Y = to_categorical(y,num_classes=2)"
   ]
  },
  {
   "cell_type": "code",
   "execution_count": 7,
   "metadata": {},
   "outputs": [
    {
     "name": "stdout",
     "output_type": "stream",
     "text": [
      "Finished preprocessing\n"
     ]
    }
   ],
   "source": [
    "# preprocess by centering jets and normalizing pts\n",
    "for x in X:\n",
    "    mask = x[:,0] > 0\n",
    "    yphi_avg = np.average(x[mask,1:3], weights=x[mask,0], axis=0)\n",
    "    x[mask,1:3] -= yphi_avg\n",
    "    x[mask,0] /= x[:,0].sum()\n",
    "\n",
    "print('Finished preprocessing')"
   ]
  },
  {
   "cell_type": "code",
   "execution_count": 8,
   "metadata": {},
   "outputs": [
    {
     "name": "stdout",
     "output_type": "stream",
     "text": [
      "Done train/val/test split\n"
     ]
    }
   ],
   "source": [
    "# do train/val/test split \n",
    "(X_train, X_val, X_test,\n",
    " Y_train, Y_val, Y_test) = data_split(X, Y, val=val, test=test)\n",
    "\n",
    "print('Done train/val/test split')"
   ]
  },
  {
   "cell_type": "code",
   "execution_count": 9,
   "metadata": {},
   "outputs": [
    {
     "name": "stdout",
     "output_type": "stream",
     "text": [
      "Model summary:\n",
      "Model: \"model\"\n",
      "__________________________________________________________________________________________________\n",
      "Layer (type)                    Output Shape         Param #     Connected to                     \n",
      "==================================================================================================\n",
      "input (InputLayer)              [(None, None, 3)]    0                                            \n",
      "__________________________________________________________________________________________________\n",
      "tdist_0 (TimeDistributed)       (None, None, 100)    400         input[0][0]                      \n",
      "__________________________________________________________________________________________________\n",
      "activation (Activation)         (None, None, 100)    0           tdist_0[0][0]                    \n",
      "__________________________________________________________________________________________________\n",
      "tdist_1 (TimeDistributed)       (None, None, 100)    10100       activation[0][0]                 \n",
      "__________________________________________________________________________________________________\n",
      "activation_1 (Activation)       (None, None, 100)    0           tdist_1[0][0]                    \n",
      "__________________________________________________________________________________________________\n",
      "tdist_2 (TimeDistributed)       (None, None, 128)    12928       activation_1[0][0]               \n",
      "__________________________________________________________________________________________________\n",
      "mask (Lambda)                   (None, None)         0           input[0][0]                      \n",
      "__________________________________________________________________________________________________\n",
      "activation_2 (Activation)       (None, None, 128)    0           tdist_2[0][0]                    \n",
      "__________________________________________________________________________________________________\n",
      "sum (Dot)                       (None, 128)          0           mask[0][0]                       \n",
      "                                                                 activation_2[0][0]               \n",
      "__________________________________________________________________________________________________\n",
      "dense_0 (Dense)                 (None, 100)          12900       sum[0][0]                        \n",
      "__________________________________________________________________________________________________\n",
      "activation_3 (Activation)       (None, 100)          0           dense_0[0][0]                    \n",
      "__________________________________________________________________________________________________\n",
      "dense_1 (Dense)                 (None, 100)          10100       activation_3[0][0]               \n",
      "__________________________________________________________________________________________________\n",
      "activation_4 (Activation)       (None, 100)          0           dense_1[0][0]                    \n",
      "__________________________________________________________________________________________________\n",
      "dense_2 (Dense)                 (None, 100)          10100       activation_4[0][0]               \n",
      "__________________________________________________________________________________________________\n",
      "activation_5 (Activation)       (None, 100)          0           dense_2[0][0]                    \n",
      "__________________________________________________________________________________________________\n",
      "output (Dense)                  (None, 2)            202         activation_5[0][0]               \n",
      "__________________________________________________________________________________________________\n",
      "activation_6 (Activation)       (None, 2)            0           output[0][0]                     \n",
      "==================================================================================================\n",
      "Total params: 56,730\n",
      "Trainable params: 56,730\n",
      "Non-trainable params: 0\n",
      "__________________________________________________________________________________________________\n",
      "Epoch 1/5\n",
      "139/139 [==============================] - 139s 1s/step - loss: 0.6408 - acc: 0.6799 - val_loss: 0.5713 - val_acc: 0.7047\n",
      "Epoch 2/5\n",
      "139/139 [==============================] - 139s 1000ms/step - loss: 0.5599 - acc: 0.7111 - val_loss: 0.5555 - val_acc: 0.7164\n",
      "Epoch 3/5\n",
      "139/139 [==============================] - 133s 955ms/step - loss: 0.5516 - acc: 0.7176 - val_loss: 0.5520 - val_acc: 0.7157\n",
      "Epoch 4/5\n",
      "139/139 [==============================] - 138s 993ms/step - loss: 0.5438 - acc: 0.7232 - val_loss: 0.5468 - val_acc: 0.7210\n",
      "Epoch 5/5\n",
      "139/139 [==============================] - 132s 947ms/step - loss: 0.5391 - acc: 0.7255 - val_loss: 0.5430 - val_acc: 0.7200\n"
     ]
    }
   ],
   "source": [
    "print('Model summary:')\n",
    "\n",
    "# build architecture\n",
    "pfn = PFN(input_dim=X.shape[-1], Phi_sizes=Phi_sizes, F_sizes=F_sizes)\n",
    "\n",
    "# train model\n",
    "pfn.fit(X_train, Y_train,\n",
    "          epochs=num_epoch,\n",
    "          batch_size=batch_size,\n",
    "          validation_data=(X_val, Y_val),\n",
    "          verbose=1)\n",
    "\n",
    "# get predictions on test data\n",
    "preds = pfn.predict(X_test, batch_size=1000)"
   ]
  },
  {
   "cell_type": "code",
   "execution_count": 10,
   "metadata": {},
   "outputs": [
    {
     "name": "stdout",
     "output_type": "stream",
     "text": [
      "\n",
      "PFN AUC: 0.7859156603946944\n",
      "\n"
     ]
    },
    {
     "data": {
      "image/png": "[encoded data removed]",
      "text/plain": [
       "<Figure size 288x288 with 1 Axes>"
      ]
     },
     "metadata": {
      "needs_background": "light"
     },
     "output_type": "display_data"
    }
   ],
   "source": [
    "pfn_fp, pfn_tp, threshs = roc_curve(Y_test[:,1], preds[:,1])\n",
    "\n",
    "# get area under the ROC curve\n",
    "auc = roc_auc_score(Y_test[:,1], preds[:,1])\n",
    "print()\n",
    "print('PFN AUC:', auc)\n",
    "print()\n",
    "\n",
    "# get multiplicity and mass for comparison\n",
    "masses = np.asarray([ef.ms_from_p4s(ef.p4s_from_ptyphims(x).sum(axis=0)) for x in X])\n",
    "mults = np.asarray([np.count_nonzero(x[:,0]) for x in X])\n",
    "mass_fp, mass_tp, threshs = roc_curve(Y[:,1], -masses)\n",
    "mult_fp, mult_tp, threshs = roc_curve(Y[:,1], -mults)\n",
    "\n",
    "# some nicer plot settings \n",
    "plt.rcParams['figure.figsize'] = (4,4)\n",
    "plt.rcParams['font.family'] = 'serif'\n",
    "plt.rcParams['figure.autolayout'] = True\n",
    "\n",
    "# plot the ROC curves\n",
    "plt.plot(pfn_tp, 1-pfn_fp, '-', color='black', label='PFN')\n",
    "plt.plot(mass_tp, 1-mass_fp, '-', color='blue', label='Jet Mass')\n",
    "plt.plot(mult_tp, 1-mult_fp, '-', color='red', label='Multiplicity')\n",
    "\n",
    "# axes labels\n",
    "plt.xlabel('Quark Jet Efficiency')\n",
    "plt.ylabel('Gluon Jet Rejection')\n",
    "\n",
    "# axes limits\n",
    "plt.xlim(0, 1)\n",
    "plt.ylim(0, 1)\n",
    "\n",
    "# make legend and show plot\n",
    "plt.legend(loc='lower left', frameon=False)\n",
    "plt.show()"
   ]
  },
  {
   "cell_type": "code",
   "execution_count": null,
   "metadata": {},
   "outputs": [],
   "source": []
  }
 ],
 "metadata": {
  "kernelspec": {
   "display_name": "Jets-ML-EFlow-GPU",
   "language": "python",
   "name": "jets-ml-eflow-gpu"
  },
  "language_info": {
   "codemirror_mode": {
    "name": "ipython",
    "version": 3
   },
   "file_extension": ".py",
   "mimetype": "text/x-python",
   "name": "python",
   "nbconvert_exporter": "python",
   "pygments_lexer": "ipython3",
   "version": "3.7.8"
  }
 },
 "nbformat": 4,
 "nbformat_minor": 4
}
