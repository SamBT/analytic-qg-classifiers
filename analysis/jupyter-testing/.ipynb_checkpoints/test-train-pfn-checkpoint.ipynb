{
 "cells": [
  {
   "cell_type": "code",
   "execution_count": 83,
   "metadata": {},
   "outputs": [],
   "source": [
    "from __future__ import absolute_import, division, print_function\n",
    "import uproot\n",
    "import numpy as np\n",
    "import matplotlib.pyplot as plt\n",
    "\n",
    "# energyflow imports\n",
    "import energyflow as ef\n",
    "from energyflow.archs import *\n",
    "from energyflow.utils import data_split, remap_pids, to_categorical\n",
    "\n",
    "from sklearn.metrics import roc_auc_score, roc_curve"
   ]
  },
  {
   "cell_type": "code",
   "execution_count": 104,
   "metadata": {},
   "outputs": [],
   "source": [
    "data_dir = '/global/homes/s/sambt/Jets/optimal-classifiers/event-generation/src/'\n",
    "h2gg = uproot.open(data_dir+'H2gg-ee-50k.root')['EventTree']\n",
    "h2qq = uproot.open(data_dir+'H2qqbar-ee-50k.root')['EventTree']\n",
    "\n",
    "nev_h2gg = h2gg.numentries\n",
    "nev_h2qq = h2qq.numentries"
   ]
  },
  {
   "cell_type": "code",
   "execution_count": 124,
   "metadata": {},
   "outputs": [
    {
     "data": {
      "text/plain": [
       "44"
      ]
     },
     "execution_count": 124,
     "metadata": {},
     "output_type": "execute_result"
    }
   ],
   "source": []
  },
  {
   "cell_type": "code",
   "execution_count": 110,
   "metadata": {},
   "outputs": [],
   "source": [
    "#load pT, eta, phi of leading jet constituents\n",
    "gjet_pt = h2gg.array(\"plead_constit_pt\")\n",
    "gjet_eta = h2gg.array(\"plead_constit_eta\")\n",
    "gjet_phi = h2gg.array(\"plead_constit_phi\")\n",
    "\n",
    "qjet_pt = h2qq.array(\"plead_constit_pt\")\n",
    "qjet_eta = h2qq.array(\"plead_constit_eta\")\n",
    "qjet_phi = h2qq.array(\"plead_constit_phi\")\n",
    "\n",
    "#only select leading jet info\n",
    "gjet_pt = gjet_pt[gjet_pt.any()]\n",
    "gjet_eta = gjet_eta[gjet_eta.any()]\n",
    "gjet_phi = gjet_phi[gjet_phi.any()]\n",
    "\n",
    "qjet_pt = qjet_pt[qjet_pt.any()]\n",
    "qjet_eta = qjet_eta[qjet_eta.any()]\n",
    "qjet_phi = qjet_phi[qjet_phi.any()]"
   ]
  },
  {
   "cell_type": "code",
   "execution_count": 126,
   "metadata": {},
   "outputs": [],
   "source": [
    "#combine quark & gluon datasets\n",
    "max_len = np.max((np.max(h2qq.array(\"plead_mult\")),np.max(h2gg.array(\"plead_mult\"))))\n",
    "quarks = np.array([[[qjet_pt[i,j],qjet_eta[i,j],qjet_phi[i,j]] if j < np.size(qjet_pt[i]) else [0,0,0] for j in range(max_len)] for i in range(np.size(qjet_pt))])\n",
    "gluons = np.array([[[gjet_pt[i,j],gjet_eta[i,j],gjet_phi[i,j]] if j < np.size(gjet_pt[i]) else [0,0,0] for j in range(max_len)] for i in range(np.size(gjet_pt))])"
   ]
  },
  {
   "cell_type": "code",
   "execution_count": 130,
   "metadata": {},
   "outputs": [
    {
     "data": {
      "text/plain": [
       "49739"
      ]
     },
     "execution_count": 130,
     "metadata": {},
     "output_type": "execute_result"
    }
   ],
   "source": [
    "np.size(quarks,axis=0)"
   ]
  },
  {
   "cell_type": "code",
   "execution_count": 131,
   "metadata": {},
   "outputs": [],
   "source": [
    "#make vectors with truth labels, combine q & g samples, shuffle\n",
    "quark_labs = np.ones(np.size(quarks,axis=0))\n",
    "glu_labs = np.zeros(np.size(gluons,axis=0))\n",
    "\n",
    "X = np.concatenate((quarks,gluons))\n",
    "y = np.concatenate((quark_labs,glu_labs))\n",
    "\n",
    "shuf = np.arange(np.size(X,axis=0))\n",
    "np.random.shuffle(shuf)\n",
    "\n",
    "X = X[shuf]\n",
    "y = y[shuf]"
   ]
  },
  {
   "cell_type": "code",
   "execution_count": 132,
   "metadata": {},
   "outputs": [],
   "source": [
    "#network parameters\n",
    "train, test, val = 50000, 10000, 20000\n",
    "Phi_sizes, F_sizes = (100, 100, 128), (100, 100, 100)\n",
    "num_epoch = 5\n",
    "batch_size = 500\n",
    "\n",
    "#convert quark/gluon labels to categorical\n",
    "Y = to_categorical(y,num_classes=2)"
   ]
  },
  {
   "cell_type": "code",
   "execution_count": 133,
   "metadata": {},
   "outputs": [
    {
     "name": "stdout",
     "output_type": "stream",
     "text": [
      "Finished preprocessing\n"
     ]
    }
   ],
   "source": [
    "# preprocess by centering jets and normalizing pts\n",
    "for x in X:\n",
    "    mask = x[:,0] > 0\n",
    "    yphi_avg = np.average(x[mask,1:3], weights=x[mask,0], axis=0)\n",
    "    x[mask,1:3] -= yphi_avg\n",
    "    x[mask,0] /= x[:,0].sum()\n",
    "\n",
    "print('Finished preprocessing')"
   ]
  },
  {
   "cell_type": "code",
   "execution_count": 137,
   "metadata": {},
   "outputs": [
    {
     "name": "stdout",
     "output_type": "stream",
     "text": [
      "Done train/val/test split\n"
     ]
    }
   ],
   "source": [
    "# do train/val/test split \n",
    "(X_train, X_val, X_test,\n",
    " Y_train, Y_val, Y_test) = data_split(X, Y, val=val, test=test)\n",
    "\n",
    "print('Done train/val/test split')"
   ]
  },
  {
   "cell_type": "code",
   "execution_count": null,
   "metadata": {},
   "outputs": [
    {
     "name": "stdout",
     "output_type": "stream",
     "text": [
      "Model summary:\n",
      "Model: \"model_1\"\n",
      "__________________________________________________________________________________________________\n",
      "Layer (type)                    Output Shape         Param #     Connected to                     \n",
      "==================================================================================================\n",
      "input (InputLayer)              [(None, None, 3)]    0                                            \n",
      "__________________________________________________________________________________________________\n",
      "tdist_0 (TimeDistributed)       (None, None, 100)    400         input[0][0]                      \n",
      "__________________________________________________________________________________________________\n",
      "activation_7 (Activation)       (None, None, 100)    0           tdist_0[0][0]                    \n",
      "__________________________________________________________________________________________________\n",
      "tdist_1 (TimeDistributed)       (None, None, 100)    10100       activation_7[0][0]               \n",
      "__________________________________________________________________________________________________\n",
      "activation_8 (Activation)       (None, None, 100)    0           tdist_1[0][0]                    \n",
      "__________________________________________________________________________________________________\n",
      "tdist_2 (TimeDistributed)       (None, None, 128)    12928       activation_8[0][0]               \n",
      "__________________________________________________________________________________________________\n",
      "mask (Lambda)                   (None, None)         0           input[0][0]                      \n",
      "__________________________________________________________________________________________________\n",
      "activation_9 (Activation)       (None, None, 128)    0           tdist_2[0][0]                    \n",
      "__________________________________________________________________________________________________\n",
      "sum (Dot)                       (None, 128)          0           mask[0][0]                       \n",
      "                                                                 activation_9[0][0]               \n",
      "__________________________________________________________________________________________________\n",
      "dense_0 (Dense)                 (None, 100)          12900       sum[0][0]                        \n",
      "__________________________________________________________________________________________________\n",
      "activation_10 (Activation)      (None, 100)          0           dense_0[0][0]                    \n",
      "__________________________________________________________________________________________________\n",
      "dense_1 (Dense)                 (None, 100)          10100       activation_10[0][0]              \n",
      "__________________________________________________________________________________________________\n",
      "activation_11 (Activation)      (None, 100)          0           dense_1[0][0]                    \n",
      "__________________________________________________________________________________________________\n",
      "dense_2 (Dense)                 (None, 100)          10100       activation_11[0][0]              \n",
      "__________________________________________________________________________________________________\n",
      "activation_12 (Activation)      (None, 100)          0           dense_2[0][0]                    \n",
      "__________________________________________________________________________________________________\n",
      "output (Dense)                  (None, 2)            202         activation_12[0][0]              \n",
      "__________________________________________________________________________________________________\n",
      "activation_13 (Activation)      (None, 2)            0           output[0][0]                     \n",
      "==================================================================================================\n",
      "Total params: 56,730\n",
      "Trainable params: 56,730\n",
      "Non-trainable params: 0\n",
      "__________________________________________________________________________________________________\n",
      "Epoch 1/5\n",
      "139/139 [==============================] - 111s 796ms/step - loss: 0.6346 - acc: 0.6789 - val_loss: 0.5731 - val_acc: 0.6997\n",
      "Epoch 2/5\n",
      "139/139 [==============================] - 103s 742ms/step - loss: 0.5623 - acc: 0.7088 - val_loss: 0.5597 - val_acc: 0.7107\n",
      "Epoch 3/5\n",
      "139/139 [==============================] - 110s 794ms/step - loss: 0.5526 - acc: 0.7165 - val_loss: 0.5522 - val_acc: 0.7107\n",
      "Epoch 4/5\n",
      "139/139 [==============================] - 115s 831ms/step - loss: 0.5446 - acc: 0.7219 - val_loss: 0.5540 - val_acc: 0.7102\n",
      "Epoch 5/5\n",
      "139/139 [==============================] - ETA: 0s - loss: 0.5385 - acc: 0.7252"
     ]
    }
   ],
   "source": [
    "print('Model summary:')\n",
    "\n",
    "# build architecture\n",
    "pfn = PFN(input_dim=X.shape[-1], Phi_sizes=Phi_sizes, F_sizes=F_sizes)\n",
    "\n",
    "# train model\n",
    "pfn.fit(X_train, Y_train,\n",
    "          epochs=num_epoch,\n",
    "          batch_size=batch_size,\n",
    "          validation_data=(X_val, Y_val),\n",
    "          verbose=1)\n",
    "\n",
    "# get predictions on test data\n",
    "preds = pfn.predict(X_test, batch_size=1000)"
   ]
  },
  {
   "cell_type": "code",
   "execution_count": null,
   "metadata": {},
   "outputs": [],
   "source": [
    "pfn_fp, pfn_tp, threshs = roc_curve(Y_test[:,1], preds[:,1])\n",
    "\n",
    "# get area under the ROC curve\n",
    "auc = roc_auc_score(Y_test[:,1], preds[:,1])\n",
    "print()\n",
    "print('PFN AUC:', auc)\n",
    "print()\n",
    "\n",
    "# get multiplicity and mass for comparison\n",
    "masses = np.asarray([ef.ms_from_p4s(ef.p4s_from_ptyphims(x).sum(axis=0)) for x in X])\n",
    "mults = np.asarray([np.count_nonzero(x[:,0]) for x in X])\n",
    "mass_fp, mass_tp, threshs = roc_curve(Y[:,1], -masses)\n",
    "mult_fp, mult_tp, threshs = roc_curve(Y[:,1], -mults)\n",
    "\n",
    "# some nicer plot settings \n",
    "plt.rcParams['figure.figsize'] = (4,4)\n",
    "plt.rcParams['font.family'] = 'serif'\n",
    "plt.rcParams['figure.autolayout'] = True\n",
    "\n",
    "# plot the ROC curves\n",
    "plt.plot(pfn_tp, 1-pfn_fp, '-', color='black', label='PFN')\n",
    "plt.plot(mass_tp, 1-mass_fp, '-', color='blue', label='Jet Mass')\n",
    "plt.plot(mult_tp, 1-mult_fp, '-', color='red', label='Multiplicity')\n",
    "\n",
    "# axes labels\n",
    "plt.xlabel('Quark Jet Efficiency')\n",
    "plt.ylabel('Gluon Jet Rejection')\n",
    "\n",
    "# axes limits\n",
    "plt.xlim(0, 1)\n",
    "plt.ylim(0, 1)\n",
    "\n",
    "# make legend and show plot\n",
    "plt.legend(loc='lower left', frameon=False)\n",
    "plt.show()"
   ]
  }
 ],
 "metadata": {
  "kernelspec": {
   "display_name": "Jets-ML-EnergyFlow",
   "language": "python",
   "name": "jets-ml-eflow"
  },
  "language_info": {
   "codemirror_mode": {
    "name": "ipython",
    "version": 3
   },
   "file_extension": ".py",
   "mimetype": "text/x-python",
   "name": "python",
   "nbconvert_exporter": "python",
   "pygments_lexer": "ipython3",
   "version": "3.7.8"
  }
 },
 "nbformat": 4,
 "nbformat_minor": 4
}
