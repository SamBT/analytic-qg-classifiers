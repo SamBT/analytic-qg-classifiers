{
 "cells": [
  {
   "cell_type": "code",
   "execution_count": 2,
   "metadata": {},
   "outputs": [],
   "source": [
    "import numpy as np\n",
    "import matplotlib.pyplot as plt\n",
    "import sys\n",
    "sys.path.append(\"../utils/\")\n",
    "from train_tools import train_qg_pfn"
   ]
  },
  {
   "cell_type": "code",
   "execution_count": null,
   "metadata": {},
   "outputs": [],
   "source": [
    "base_dir = \"/home/sambt/pythia83-samples/optimal-classifiers/kernel-1/\"\n",
    "fname_gg = base_dir+'H2gg-1M-CF1.3CA3.0/total.root'\n",
    "fname_qq = base_dir+'H2qq-1M-CF1.3CA3.0/total.root'\n",
    "\n",
    "output = train_qg_pfn(fname_qq,fname_gg,nev_max=100000,n_epoch=3)"
   ]
  }
 ],
 "metadata": {
  "kernelspec": {
   "display_name": "sambt-uproot",
   "language": "python",
   "name": "sambt-uproot"
  },
  "language_info": {
   "codemirror_mode": {
    "name": "ipython",
    "version": 3
   },
   "file_extension": ".py",
   "mimetype": "text/x-python",
   "name": "python",
   "nbconvert_exporter": "python",
   "pygments_lexer": "ipython3",
   "version": "3.6.5"
  }
 },
 "nbformat": 4,
 "nbformat_minor": 4
}
