{
 "cells": [
  {
   "cell_type": "code",
   "execution_count": 1,
   "metadata": {},
   "outputs": [
    {
     "name": "stdout",
     "output_type": "stream",
     "text": [
      "Welcome to JupyROOT 6.18/00\n"
     ]
    }
   ],
   "source": [
    "import ROOT\n",
    "import numpy as np\n",
    "ROOT.gStyle.SetOptStat(0)"
   ]
  },
  {
   "cell_type": "code",
   "execution_count": 20,
   "metadata": {},
   "outputs": [],
   "source": [
    "pref = \"/global/project/projectdirs/atlas/sambt/pythia83-output/optimal-classifiers/kernel-1/\"\n",
    "ROOT.gStyle.SetPalette(ROOT.kRainBow)\n",
    "#cols = ROOT.TColor.GetPalette()\n",
    "cols = [1,2,3,4,6,7,8,9]\n",
    " \n",
    "def get_hist(file,var,cut=1):\n",
    "    f = ROOT.TFile(pref+file+\"/total.root\")\n",
    "    t = f.Get(\"EventTree\")\n",
    "    ctmp = ROOT.TCanvas(\"ctmp\",\"ctmp\")\n",
    "    n = t.GetEntries()\n",
    "    t.Draw(var,\"({0:.8f})*({1})\".format(1.0/n,cut),\"hist\")\n",
    "    h = ctmp.GetListOfPrimitives()[0].Clone()\n",
    "    h.SetDirectory(0)\n",
    "    f.Close()\n",
    "    #del ctmp\n",
    "    return h\n",
    "\n",
    "qd = {\"qd0.4\":\"H2qq-CF3.0CA3.0-sqg0100-esq0000-r0.4\",\n",
    "      \"qd1.0\":\"H2qq-CF3.0CA3.0-sqg0100-esq0000-r1.0\",\n",
    "      \"qd1.5\":\"H2qq-CF3.0CA3.0-sqg0100-esq0000-r1.5\"}\n",
    "qm = {\"qm0.4\":\"H2qq-CF3.0CA3.0-sqg0100-esq0011-r0.4\",\n",
    "      \"qm1.0\":\"H2qq-CF3.0CA3.0-sqg0100-esq0011-r1.0\",\n",
    "      \"qm1.5\":\"H2qq-CF3.0CA3.0-sqg0100-esq0011-r1.5\"}\n",
    "gd = {\"gd0.4\":\"H2gg-CF3.0CA3.0-sqg0100-r0.4\",\n",
    "      \"gd1.0\":\"H2gg-CF3.0CA3.0-sqg0100-r1.0\",\n",
    "      \"gd1.5\":\"H2gg-CF3.0CA3.0-sqg0100-r1.5\"}"
   ]
  },
  {
   "cell_type": "code",
   "execution_count": 24,
   "metadata": {},
   "outputs": [
    {
     "name": "stderr",
     "output_type": "stream",
     "text": [
      "Warning in <TCanvas::Constructor>: Deleting canvas with same name: c\n"
     ]
    },
    {
     "data": {
      "image/png": "[encoded data removed]",
      "text/plain": [
       "<IPython.core.display.Image object>"
      ]
     },
     "metadata": {},
     "output_type": "display_data"
    }
   ],
   "source": [
    "var = \"(jet_mult[0]+jet_mult[1])/EventPartonMult\"\n",
    "cut = 1\n",
    "leg = ROOT.TLegend(0.7,0.5,0.9,0.9)\n",
    "hists = []\n",
    "mx = -1\n",
    "for i, k in enumerate(qd.keys()):\n",
    "    h = get_hist(qd[k],var,cut=cut)\n",
    "    h.Rebin(4)\n",
    "    h.SetTitle(var)\n",
    "    h.SetLineColor(cols[i])\n",
    "    if h.GetMaximum() > mx:\n",
    "        mx = h.GetMaximum()\n",
    "    hists.append(h)\n",
    "    leg.AddEntry(h,k,\"l\")\n",
    "mod_hists = []\n",
    "for i,k in enumerate(qm.keys()):\n",
    "    h = get_hist(qm[k],var,cut=cut)\n",
    "    h.Rebin(4)\n",
    "    h.SetTitle(var)\n",
    "    h.SetLineColor(cols[3+i])\n",
    "    if h.GetMaximum() > mx:\n",
    "        mx = h.GetMaximum()\n",
    "    mod_hists.append(h)\n",
    "    leg.AddEntry(h,k,\"l\")\n",
    "c = ROOT.TCanvas(\"c\")\n",
    "for h in hists:\n",
    "    h.SetMaximum(1.2*mx)\n",
    "    h.Draw(\"histsame\")\n",
    "for h in mod_hists:\n",
    "    h.SetMaximum(1.2*mx)\n",
    "    h.Draw(\"histsame\")\n",
    "leg.Draw()\n",
    "c.Draw()"
   ]
  },
  {
   "cell_type": "code",
   "execution_count": null,
   "metadata": {},
   "outputs": [],
   "source": []
  }
 ],
 "metadata": {
  "kernelspec": {
   "display_name": "Jets-ML-EnergyFlow",
   "language": "python",
   "name": "jets-ml-eflow"
  },
  "language_info": {
   "codemirror_mode": {
    "name": "ipython",
    "version": 3
   },
   "file_extension": ".py",
   "mimetype": "text/x-python",
   "name": "python",
   "nbconvert_exporter": "python",
   "pygments_lexer": "ipython3",
   "version": "3.7.8"
  }
 },
 "nbformat": 4,
 "nbformat_minor": 4
}
